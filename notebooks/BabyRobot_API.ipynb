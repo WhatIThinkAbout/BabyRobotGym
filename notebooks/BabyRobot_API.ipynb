{
 "cells": [
  {
   "cell_type": "markdown",
   "metadata": {},
   "source": [
    "# Basic Setup"
   ]
  },
  {
   "cell_type": "markdown",
   "metadata": {},
   "source": [
    "### Install the BabyRobot Environment"
   ]
  },
  {
   "cell_type": "code",
   "execution_count": 2,
   "metadata": {},
   "outputs": [
    {
     "name": "stdout",
     "output_type": "stream",
     "text": [
      "Note: you may need to restart the kernel to use updated packages.\n"
     ]
    }
   ],
   "source": [
    "%pip install babyrobot --upgrade -q"
   ]
  },
  {
   "cell_type": "markdown",
   "metadata": {},
   "source": [
    "Display the version number of the 'babyrobot' library that's just been installed:"
   ]
  },
  {
   "cell_type": "code",
   "execution_count": 3,
   "metadata": {},
   "outputs": [
    {
     "name": "stdout",
     "output_type": "stream",
     "text": [
      "Gym Version = 0.27.0\n",
      "Baby Robot Version = 1.0.30\n"
     ]
    }
   ],
   "source": [
    "import gymnasium\n",
    "print(f\"Gym Version = {gymnasium.__version__}\")\n",
    "\n",
    "import babyrobot\n",
    "print(f\"Baby Robot Version = {babyrobot.__version__}\")"
   ]
  },
  {
   "cell_type": "markdown",
   "metadata": {},
   "source": [
    "### Load the required libraries"
   ]
  },
  {
   "cell_type": "code",
   "execution_count": 4,
   "metadata": {},
   "outputs": [],
   "source": [
    "import numpy as np\n",
    "import string\n",
    "import os\n",
    "import json\n",
    "import time\n",
    "import warnings\n",
    "from babyrobot.envs.lib import Actions\n",
    "\n",
    "# to enable ipycanvas support on Google Colab\n",
    "if 'COLAB_GPU' in os.environ:\n",
    "  print(\"Loading Google Colab Imports\")\n",
    "  from google.colab import output\n",
    "  output.enable_custom_widget_manager()\n",
    "\n",
    "\n",
    "# hide the deprecation warnings that gym can produce\n",
    "warnings.filterwarnings(\"ignore\")  "
   ]
  },
  {
   "cell_type": "markdown",
   "metadata": {},
   "source": [
    "# Examine the Environment\n",
    "\n",
    "In the Jupyter Notebook cells, below, quite often the first cell is used to define the environment and the next cell is used to display that environment. Additionally, when animations are displayed, the first cell will draw the initial grid view and then the second cell with cause the animations to take place in that graphical cell. So, the important thing to remember is, if you don't see anything happening immediately, try executing the next cell.\n",
    "\n",
    "</br>\n",
    "</br>"
   ]
  },
  {
   "cell_type": "markdown",
   "metadata": {},
   "source": [
    "### Creating an Environment\n",
    "\n",
    "The standard way to create a Gym environment is by using the '_gym.make_' function.\n",
    "This function takes the name of the environment to create and the setup parameters that define the environment.\n",
    "\n",
    "In the examples given below we first create an environment and then render it, to see what we've made. Unfortunately in the latest versions of Gym this is no longer possible (from version 0.24.0 (25th May 2022)). Gym now forces you to call the '_reset_' function before calling '_render_'. To avoid this we can create the BabyRobot environment using the custom make function:\n",
    "\n",
    "\n",
    "```\n",
    "babyrobot.make( environment_name, **setup_parameters )\n",
    "```\n",
    "\n",
    "This creates the environment in a way that allows '_render_' to be called directly, without a '_reset_' having to be done (the environment has just been created, so is already in its initial state). Additionally it removes other warnings that the latest version of Gym can now produce. (for full details check out the function comments in the _[source](https://github.com/WhatIThinkAbout/BabyRobotGym/blob/main/babyrobot/lib/utils.py)_)\n",
    "\n",
    "\n",
    "\n",
    "\n"
   ]
  },
  {
   "cell_type": "markdown",
   "metadata": {},
   "source": [
    "### Default Render Operation\n",
    "\n",
    "By default the Baby Robot environment starts with a grid of size 3x3, with the Start cell at the top-left and Exit at the bottom-right:"
   ]
  },
  {
   "cell_type": "code",
   "execution_count": 5,
   "metadata": {},
   "outputs": [
    {
     "data": {
      "application/vnd.jupyter.widget-view+json": {
       "model_id": "4d0d99002f5c4981af1df8deee0c03f5",
       "version_major": 2,
       "version_minor": 0
      },
      "text/plain": [
       "MultiCanvas(height=196, sync_image_data=True, width=196)"
      ]
     },
     "metadata": {},
     "output_type": "display_data"
    }
   ],
   "source": [
    "env = babyrobot.make(\"BabyRobot-v0\")\n",
    "env.render()"
   ]
  },
  {
   "cell_type": "markdown",
   "metadata": {},
   "source": [
    "### Basic Reinforcement Learning Loop\n",
    "\n",
    "Take random actions in the environment until the Exit is reached.\n",
    "(Note, because Baby Robot is following a random path it can take a while to reach the exit!)"
   ]
  },
  {
   "cell_type": "code",
   "execution_count": 5,
   "metadata": {},
   "outputs": [],
   "source": [
    "# initialize the environment\n",
    "env.reset()\n",
    "\n",
    "# move until the exit is found\n",
    "terminated = False\n",
    "while not terminated:  \n",
    "\n",
    "  # choose a random action\n",
    "  action = env.action_space.sample()   \n",
    "\n",
    "  # take the action and get the information from the environment\n",
    "  new_state, reward, terminated, truncated, info = env.step(action)\n",
    "  \n",
    "  # show the current position\n",
    "  env.render() "
   ]
  },
  {
   "attachments": {},
   "cell_type": "markdown",
   "metadata": {},
   "source": [
    "### Step Function\n",
    "\n",
    "Prior to Gym version [0.25.0](https://github.com/openai/gym/releases/tag/0.25.0), the '_step_' function returned a single '_done_' boolean value to indicate if the episode had reached a conclusion. In the latest versions of Gym this has now been split into 2 booleans, '_terminated_' and '_truncated_':\n",
    "</br></br>\n",
    "\n",
    "'_terminated_': set true when Baby Robot reaches the Exit to the grid or if the episode is truncated</br></br>\n",
    "'_truncated_': set true if Baby Robot has not reached the Exit in the maximum allowed number of time steps (set using the 'max_episode_steps' setup parameter - by default there is no limit set on the number of steps)</br></br>\n",
    "\n"
   ]
  },
  {
   "cell_type": "code",
   "execution_count": 6,
   "metadata": {},
   "outputs": [
    {
     "data": {
      "text/plain": [
       "(array([1, 0]), -1, False, False, {'target_reached': True})"
      ]
     },
     "execution_count": 6,
     "metadata": {},
     "output_type": "execute_result"
    }
   ],
   "source": [
    "# create a default environment\n",
    "# - this gives 2 boolean ouputs for the step function: 'terminated' and 'truncated'\n",
    "env = babyrobot.make(\"BabyRobot-v0\")\n",
    "env.reset()\n",
    "new_state, reward, terminated, truncated, info = env.step(env.action_space.sample())\n",
    "new_state, reward, terminated, truncated, info"
   ]
  },
  {
   "cell_type": "markdown",
   "metadata": {},
   "source": [
    "### Observation Space\n",
    "\n",
    "The observation space simply returns the co-ordinates of Baby Robot's position in the grid. \n",
    "\n",
    "These are zero based:\n",
    "* top-left cell     = [0,0] \n",
    "* bottom-right cell = [ grid_width-1, grid_height-1 ]"
   ]
  },
  {
   "cell_type": "code",
   "execution_count": 7,
   "metadata": {},
   "outputs": [
    {
     "name": "stdout",
     "output_type": "stream",
     "text": [
      "_____OBSERVATION SPACE_____ \n",
      "\n",
      "Observation Space Shape (2,)\n",
      "Sample observation [0 1]\n"
     ]
    }
   ],
   "source": [
    "env = babyrobot.make(\"BabyRobot-v0\")\n",
    "env.reset()\n",
    "print(\"_____OBSERVATION SPACE_____ \\n\")\n",
    "print(\"Observation Space Shape\", env.observation_space.shape)\n",
    "print(\"Sample observation\", env.observation_space.sample()) # Get a random observation"
   ]
  },
  {
   "cell_type": "markdown",
   "metadata": {},
   "source": [
    "### Action Space\n",
    "\n",
    "There are 5 possible actions:\n",
    "\n",
    "* North, East, South and West\n",
    "* Stay (equivalent to not taking an action)\n",
    "\n",
    "When running with a dynamic action space only the valid actions will be available for each cell. \n",
    "Therefore, in the Start cell, the aciton space will consist of only 2 actions: South and East."
   ]
  },
  {
   "cell_type": "code",
   "execution_count": 8,
   "metadata": {},
   "outputs": [
    {
     "name": "stdout",
     "output_type": "stream",
     "text": [
      "\n",
      " _____ACTION SPACE_____ \n",
      "\n",
      "Action Space Shape 2\n",
      "Action Space Sample 3\n"
     ]
    }
   ],
   "source": [
    "print(\"\\n _____ACTION SPACE_____ \\n\")\n",
    "print(\"Action Space Shape\", env.action_space.n)\n",
    "print(\"Action Space Sample\", env.action_space.sample()) # Take a random action"
   ]
  },
  {
   "cell_type": "code",
   "execution_count": 9,
   "metadata": {},
   "outputs": [
    {
     "name": "stdout",
     "output_type": "stream",
     "text": [
      "\n",
      " _____ACTION SPACE_____ \n",
      "\n",
      "Action Space Shape 5\n",
      "Action Space Sample 4\n"
     ]
    }
   ],
   "source": [
    "# Discrete Action Space\n",
    "# - all actions (even invalid ones) are possible in all states\n",
    "setup = {'action_space':'discrete'}\n",
    "env = babyrobot.make(\"BabyRobot-v0\",**setup)\n",
    "\n",
    "print(\"\\n _____ACTION SPACE_____ \\n\")\n",
    "print(\"Action Space Shape\", env.action_space.n)\n",
    "print(\"Action Space Sample\", env.action_space.sample()) # Take a random action"
   ]
  },
  {
   "cell_type": "markdown",
   "metadata": {},
   "source": [
    "## Grid Basics\n",
    "\n",
    "The _setup_ object is used to supply initial properties that define how the environment should look on startup."
   ]
  },
  {
   "cell_type": "markdown",
   "metadata": {},
   "source": [
    "### Grid Size\n",
    "\n",
    "The size of the grid can be set using the _width_ and _height_ properties:"
   ]
  },
  {
   "cell_type": "code",
   "execution_count": 10,
   "metadata": {},
   "outputs": [
    {
     "data": {
      "application/vnd.jupyter.widget-view+json": {
       "model_id": "438b92e80907433598740dacea447bbb",
       "version_major": 2,
       "version_minor": 0
      },
      "text/plain": [
       "MultiCanvas(height=260, sync_image_data=True, width=324)"
      ]
     },
     "metadata": {},
     "output_type": "display_data"
    }
   ],
   "source": [
    "setup = { 'width': 5,\n",
    "          'height': 4 }\n",
    "\n",
    "env = babyrobot.make(\"BabyRobot-v0\",**setup)\n",
    "env.render()          "
   ]
  },
  {
   "cell_type": "markdown",
   "metadata": {},
   "source": [
    "### Setting the Start and Exit Positions\n",
    "\n",
    "The positions of the Start and Exit can be defined using _start_ and _end_:"
   ]
  },
  {
   "cell_type": "code",
   "execution_count": 11,
   "metadata": {},
   "outputs": [
    {
     "data": {
      "application/vnd.jupyter.widget-view+json": {
       "model_id": "d6f7e38f9d2141669cf773a561f3afe0",
       "version_major": 2,
       "version_minor": 0
      },
      "text/plain": [
       "MultiCanvas(height=196, sync_image_data=True, width=196)"
      ]
     },
     "metadata": {},
     "output_type": "display_data"
    }
   ],
   "source": [
    "setup = { 'start': [0,1],\n",
    "          'end': [2,1] }\n",
    "\n",
    "env = babyrobot.make(\"BabyRobot-v0\",**setup)\n",
    "env.render()"
   ]
  },
  {
   "attachments": {},
   "cell_type": "markdown",
   "metadata": {},
   "source": [
    "### Hiding Baby Robot and the Start and Exit Text\n",
    "\n",
    "Sometimes, when displaying other information on the grid, you may wish to hide the Start and Exit text, or remove Baby Robot.\n",
    "The setup parameters for this are shown below:"
   ]
  },
  {
   "cell_type": "code",
   "execution_count": 12,
   "metadata": {},
   "outputs": [
    {
     "data": {
      "application/vnd.jupyter.widget-view+json": {
       "model_id": "48c905c31dee4600a93331101e0b13a0",
       "version_major": 2,
       "version_minor": 0
      },
      "text/plain": [
       "MultiCanvas(height=196, sync_image_data=True, width=196)"
      ]
     },
     "metadata": {},
     "output_type": "display_data"
    }
   ],
   "source": [
    "setup = {'show_start_text':False,'show_end_text':False,'robot':{ 'show': False}}\n",
    "env = babyrobot.make(\"BabyRobot-v0\",**setup)\n",
    "env.render()"
   ]
  },
  {
   "cell_type": "markdown",
   "metadata": {},
   "source": [
    "### Adding a Compass\n",
    "\n",
    "A compass can be added to the right of the grid using the <i>add_compass</i> property:"
   ]
  },
  {
   "cell_type": "code",
   "execution_count": 11,
   "metadata": {},
   "outputs": [
    {
     "data": {
      "application/vnd.jupyter.widget-view+json": {
       "model_id": "0b9100e4adf64649b0b4578f584e0ef4",
       "version_major": 2,
       "version_minor": 0
      },
      "text/plain": [
       "MultiCanvas(height=196, sync_image_data=True, width=296)"
      ]
     },
     "metadata": {},
     "output_type": "display_data"
    }
   ],
   "source": [
    "setup = { 'add_compass':True }\n",
    "\n",
    "env = babyrobot.make(\"BabyRobot-v0\",**setup)\n",
    "env.render() "
   ]
  },
  {
   "cell_type": "markdown",
   "metadata": {},
   "source": [
    "### Information Panels\n",
    "\n",
    "To show information about an episode, information panels can be added to the right or below the grid area. \n",
    "\n",
    "The size and color of these panels can be specified:"
   ]
  },
  {
   "cell_type": "code",
   "execution_count": 12,
   "metadata": {},
   "outputs": [],
   "source": [
    "bottom_panel = {'width':396,'height':50,'color':'green','text_fg':'blue'}\n",
    "side_panel   = {'width':200,'height':196,'color':'blue','text_fg':'yellow'}\n",
    "\n",
    "setup = {}\n",
    "setup['bottom_panel'] = bottom_panel\n",
    "setup['side_panel'] = side_panel"
   ]
  },
  {
   "cell_type": "code",
   "execution_count": 13,
   "metadata": {},
   "outputs": [
    {
     "data": {
      "application/vnd.jupyter.widget-view+json": {
       "model_id": "68bb2e7c3cb7428c9bb52a27840fd74a",
       "version_major": 2,
       "version_minor": 0
      },
      "text/plain": [
       "MultiCanvas(height=246, sync_image_data=True, width=396)"
      ]
     },
     "metadata": {},
     "output_type": "display_data"
    }
   ],
   "source": [
    "env = babyrobot.make(\"BabyRobot-v0\",**setup)\n",
    "env.render()"
   ]
  },
  {
   "cell_type": "markdown",
   "metadata": {},
   "source": [
    "<b><i>show_info</i></b>\n",
    "\n",
    "Used to write to an information panel.\n",
    "\n",
    "An information items has the following format:\n",
    "\n",
    "<i>((x,y),text)</i>\n",
    "\n",
    "Where:\n",
    "\n",
    "- _(x,y)_ is the location of the item in the information panel\n",
    "- _text_ is the string to display\n",
    "\n",
    "Information items can then be bundled into an array and used as the value in a key-value pair that specifies which panel the information should be added to."
   ]
  },
  {
   "cell_type": "code",
   "execution_count": 14,
   "metadata": {},
   "outputs": [
    {
     "data": {
      "application/vnd.jupyter.widget-view+json": {
       "model_id": "ceef3f62f35749a1b38d1c52224fe42c",
       "version_major": 2,
       "version_minor": 0
      },
      "text/plain": [
       "MultiCanvas(height=246, sync_image_data=True, width=396)"
      ]
     },
     "metadata": {},
     "output_type": "display_data"
    }
   ],
   "source": [
    "env = babyrobot.make(\"BabyRobot-v0\",**setup)\n",
    "env.render()"
   ]
  },
  {
   "cell_type": "code",
   "execution_count": 15,
   "metadata": {},
   "outputs": [],
   "source": [
    "side_info = [((10,10),\"Hello\"),((10,30),\"Side Panel\")]\n",
    "bottom_info = [((10,10),\"Hello\"),((10,30),\"Bottom Panel\")]\n",
    "\n",
    "info = {}\n",
    "info['side_info'] = side_info\n",
    "info['bottom_info'] = bottom_info\n",
    "\n",
    "env.show_info(info)"
   ]
  },
  {
   "cell_type": "markdown",
   "metadata": {},
   "source": [
    "## Adding Grid Level Components"
   ]
  },
  {
   "cell_type": "markdown",
   "metadata": {},
   "source": [
    "### Adding Walls\n",
    "\n",
    "An array of wall definitions can be given when creating the environment. Each item in this array defines the grid coordinate and side of the cell where the wall should be placed:"
   ]
  },
  {
   "cell_type": "code",
   "execution_count": 16,
   "metadata": {},
   "outputs": [
    {
     "data": {
      "application/vnd.jupyter.widget-view+json": {
       "model_id": "70fadc1f29d7401fb95951e888d36afc",
       "version_major": 2,
       "version_minor": 0
      },
      "text/plain": [
       "MultiCanvas(height=260, sync_image_data=True, width=360)"
      ]
     },
     "metadata": {},
     "output_type": "display_data"
    }
   ],
   "source": [
    "setup = { 'width': 4, 'height': 4, 'add_compass':True }\n",
    "walls = [((1, 0),'S'),\n",
    "         ((1, 1),'E'),\n",
    "         ((2, 2),'N'),\n",
    "         ((3, 2),'W')]\n",
    "setup['walls'] = walls\n",
    "\n",
    "env = babyrobot.make(\"BabyRobot-v0\",**setup)\n",
    "env.render()"
   ]
  },
  {
   "cell_type": "markdown",
   "metadata": {},
   "source": [
    "### Add Repeated Walls\n",
    "\n",
    "When a wall needs to be added, in a straight line, across multiple grid cells, a repeating parameter may be specified. In this case each wall definition becomes:\n",
    "\n",
    "```\n",
    "((x,y,num_cells),side)\n",
    "```\n",
    "\n",
    "where:\n",
    "\n",
    "* _x_ and _y_ are the coordinates of the initial cell in which to add the first section of wall\n",
    "* <i>num_cells</i> is the number of cells across which the wall should span\n",
    "* _side_ is the side of the cell to which the wall should be added, chosen from 'N','E','S' or 'W'.\n",
    "\n",
    "When a wall is specified on either the top or bottom of the cell ('N' or 'S') then the wall sections will be repeated for the specified number of cells to the right of the initial cell, to form a horizontal wall. \n",
    "\n",
    "For walls specified on either the left or right ('E' or 'W'), the walls will be repeated below the initial cell, to give a vertical wall.\n",
    "\n",
    "_Example:_\n",
    "\n",
    "((3, 0, 4),'S') - will draw a horizontal wall, starting on the South edge of grid cell (3,0) and extending over a total of 4 cells.\n",
    "\n",
    "((1, 1, 2),'E') - will draw a vertical wall, starting on the East edge of grid cell (1,1) and extending over a total of 2 cells.\n",
    "\n",
    "((3, 2),'N') - just draws a single cell wall on the North side of of grid cell (3,2)"
   ]
  },
  {
   "cell_type": "code",
   "execution_count": 17,
   "metadata": {},
   "outputs": [
    {
     "data": {
      "application/vnd.jupyter.widget-view+json": {
       "model_id": "2bca9887246441c0acc7f6a3f54dc83a",
       "version_major": 2,
       "version_minor": 0
      },
      "text/plain": [
       "MultiCanvas(height=260, sync_image_data=True, width=616)"
      ]
     },
     "metadata": {},
     "output_type": "display_data"
    }
   ],
   "source": [
    "setup = { 'width': 8, 'height': 4, 'add_compass':True }\n",
    "walls = [((3, 0, 4),'S'),\n",
    "         ((1, 1, 2),'E'),\n",
    "         ((3, 2),'N')]\n",
    "setup['walls'] = walls\n",
    "\n",
    "env = babyrobot.make(\"BabyRobot-v0\",**setup)\n",
    "env.render()"
   ]
  },
  {
   "attachments": {},
   "cell_type": "markdown",
   "metadata": {},
   "source": [
    "### Setting wall properties\n",
    "\n",
    "Individual walls can have their properties set by supplying a dictionary for the wall element. The properties that can be set are:\n",
    "\n",
    "- _color_: the color to give this line segment\n",
    "- _width_: the width of the line segment\n",
    "- _fit_: set True to make the line fit within the cell boundaries. By default a wall will extend beyond the boundaries by the width of the line to give a smooth join with other walls"
   ]
  },
  {
   "cell_type": "code",
   "execution_count": null,
   "metadata": {},
   "outputs": [],
   "source": [
    "setup = { 'width': 8, 'height': 4, 'add_compass':True }\n",
    "walls = [((3, 0, 4),'S',{'color': 'green','width':12}),\n",
    "         ((1, 1, 2),'E',{'color': '#00a9ff','width':16,'fit':True}),\n",
    "         ((3, 2),'N')]\n",
    "setup['walls'] = walls\n",
    "\n",
    "env = babyrobot.make(\"BabyRobot-v0\",**setup)\n",
    "env.render()"
   ]
  },
  {
   "cell_type": "markdown",
   "metadata": {},
   "source": [
    "### Add a Maze\n",
    "\n",
    "A maze can be defined by setting the 'add_maze' parameter to true in the setup. The actual walls that are shown are controlled by the 'maze_seed' parameter. The maze that is created will have a single path to the exit.\n",
    "\n",
    "Additionally, the start and end of the maze may not be positioned at the top-left and bottom-right of the grid, so you may need to move the Start and Exit, as defined above."
   ]
  },
  {
   "cell_type": "code",
   "execution_count": 18,
   "metadata": {},
   "outputs": [
    {
     "data": {
      "application/vnd.jupyter.widget-view+json": {
       "model_id": "f939e327aa344295beb3f3eed18d9cdd",
       "version_major": 2,
       "version_minor": 0
      },
      "text/plain": [
       "MultiCanvas(height=324, sync_image_data=True, width=516)"
      ]
     },
     "metadata": {},
     "output_type": "display_data"
    }
   ],
   "source": [
    "setup = { 'width': 8,\n",
    "          'height': 5,\n",
    "          'add_maze': True,\n",
    "          'maze_seed': 42,\n",
    "          'end': [5,4]\n",
    "        }\n",
    "\n",
    "env = babyrobot.make(\"BabyRobot-v0\",**setup)\n",
    "env.render()"
   ]
  },
  {
   "cell_type": "markdown",
   "metadata": {},
   "source": [
    "### Remove Walls\n",
    "\n",
    "The default maze only has a single path to the exit. To make more than one path, walls may be removed. This is a simple toggle operation - if a wall is defined at a particular location and one exists there already, then it will be removed."
   ]
  },
  {
   "cell_type": "code",
   "execution_count": 19,
   "metadata": {},
   "outputs": [
    {
     "data": {
      "application/vnd.jupyter.widget-view+json": {
       "model_id": "4857caccaa3241a7812e1729cc514741",
       "version_major": 2,
       "version_minor": 0
      },
      "text/plain": [
       "MultiCanvas(height=324, sync_image_data=True, width=516)"
      ]
     },
     "metadata": {},
     "output_type": "display_data"
    }
   ],
   "source": [
    "walls = [((2, 0),'E'), # remove the east wall at (2,0)\n",
    "         ((2, 2),'E'), # remove the east wall at (2,2)\n",
    "         ((3, 2),'E'), # remove the east wall at (3,2)\n",
    "         ((5, 2),'E')] # add an east wall at (5,2)        \n",
    "setup['walls'] = walls\n",
    "\n",
    "env = babyrobot.make(\"BabyRobot-v0\",**setup)\n",
    "env.render() "
   ]
  },
  {
   "cell_type": "markdown",
   "metadata": {},
   "source": [
    "### Add Puddles\n",
    "\n",
    "Puddles can be used to add a probabilistic component to the grid. Rather than simply moving to the target cell and receiving a reward of -1, a puddle will potentially cause Baby Robot to skid. If this occurs he will end up in a cell other than a target. Additionally, since puddles take longer to move through, they receive a larger negative reward.\n",
    "\n",
    "There are two sizes of puddle, with the following default properties:\n",
    "\n",
    "  * small puddles: reward = -2, probability of reaching target = 0.6\n",
    "  * large puddles: reward = -4, probability of reaching target = 0.4\n",
    "\n",
    "A puddle item is defined by:\n",
    "\n",
    "<i>((x,y),puddle_size)</i>\n",
    "\n",
    "where:\n",
    "\n",
    "- _(x,y)_ is the location of the puddle\n",
    "- _puddle_size_ is either 1 for a small puddle or 2 for a large puddle"
   ]
  },
  {
   "cell_type": "code",
   "execution_count": 20,
   "metadata": {},
   "outputs": [
    {
     "data": {
      "application/vnd.jupyter.widget-view+json": {
       "model_id": "fcdea1c6b7cb457b94a3485727f983f5",
       "version_major": 2,
       "version_minor": 0
      },
      "text/plain": [
       "MultiCanvas(height=196, sync_image_data=True, width=196)"
      ]
     },
     "metadata": {},
     "output_type": "display_data"
    }
   ],
   "source": [
    "setup = {}\n",
    "puddles = [((1,1),2),           \n",
    "           ((1,0),1)]\n",
    "setup['puddles'] = puddles\n",
    "\n",
    "env = babyrobot.make(\"BabyRobot-v0\",**setup)\n",
    "env.render()"
   ]
  },
  {
   "cell_type": "markdown",
   "metadata": {},
   "source": [
    "### Puddle Demo:\n",
    "\n",
    "The code below demonstrates what happens when Baby Robot moves into a puddle.\n",
    "* On the first step, when he enters the large puddle, he's given a reward of -4.\n",
    "* On the second step he tries to move East, to the Exit. However, since he's in a puddle there's a chance he may skid, in which case he'll end up in one of the other possible states."
   ]
  },
  {
   "cell_type": "code",
   "execution_count": 21,
   "metadata": {},
   "outputs": [],
   "source": [
    "def puddle_test():\n",
    "  env.reset()\n",
    "  for step in range(2):    \n",
    "    action = Actions.East\n",
    "    new_state, reward, done, truncated, info = env.step(action)\n",
    "    info_str = f\"{Actions(action): <5}: {new_state} reward = {reward}\"  \n",
    "    target_str = f\"Target Reached = {info['target_reached']}\"\n",
    "    env.render(info = {'side_info': [((10,100),info_str),((10,130),target_str)]}) "
   ]
  },
  {
   "cell_type": "code",
   "execution_count": 22,
   "metadata": {},
   "outputs": [
    {
     "data": {
      "application/vnd.jupyter.widget-view+json": {
       "model_id": "78c3517e7afb46089f40ab3187a6a054",
       "version_major": 2,
       "version_minor": 0
      },
      "text/plain": [
       "MultiCanvas(height=196, sync_image_data=True, width=396)"
      ]
     },
     "metadata": {},
     "output_type": "display_data"
    }
   ],
   "source": [
    "setup = { 'start':[0,1], 'end': [2,1] , 'add_compass':True }\n",
    "setup['side_panel'] = {'width':200,'color':'#ddd'}\n",
    "setup['walls'] = [((0, 1),'N'),((0, 1),'S')]\n",
    "setup['puddles'] = [((1,1),2)]\n",
    "\n",
    "env = babyrobot.make(\"BabyRobot-v0\",**setup)\n",
    "env.render()"
   ]
  },
  {
   "cell_type": "code",
   "execution_count": 23,
   "metadata": {},
   "outputs": [],
   "source": [
    "# run this a few times to see the effect of stepping into a puddle\n",
    "puddle_test() "
   ]
  },
  {
   "cell_type": "markdown",
   "metadata": {},
   "source": [
    "### Changing the Puddle Properties\n",
    "\n",
    "The default rewards and probability of skidding can be changed using the <i>puddle_props</i> attribute:"
   ]
  },
  {
   "cell_type": "code",
   "execution_count": 24,
   "metadata": {},
   "outputs": [
    {
     "data": {
      "application/vnd.jupyter.widget-view+json": {
       "model_id": "8f2fe247d4f34a7483d1ecfa7c57a683",
       "version_major": 2,
       "version_minor": 0
      },
      "text/plain": [
       "MultiCanvas(height=196, sync_image_data=True, width=396)"
      ]
     },
     "metadata": {},
     "output_type": "display_data"
    }
   ],
   "source": [
    "setup['puddles'] = [((1,1),2),((1,0),1)]\n",
    "\n",
    "# change the default puddle rewards and probabilities of reaching target\n",
    "setup['puddle_props'] = {'large_reward':-10,'large_prob':0.1,\n",
    "                         'small_reward':-5, 'small_prob':0.2 }\n",
    "\n",
    "env = babyrobot.make(\"BabyRobot-v0\",**setup)\n",
    "env.render() "
   ]
  },
  {
   "cell_type": "code",
   "execution_count": 25,
   "metadata": {},
   "outputs": [],
   "source": [
    "info = {'text': env.level.get_rewards()}\n",
    "env.show_info(info)"
   ]
  },
  {
   "cell_type": "code",
   "execution_count": 26,
   "metadata": {},
   "outputs": [],
   "source": [
    "puddle_test()"
   ]
  },
  {
   "cell_type": "markdown",
   "metadata": {},
   "source": [
    "## Adding Areas\n",
    "\n",
    "A basic area is defined as:\n",
    "\n",
    "(x,y,[width],[height]), color\n",
    "\n",
    "where:\n",
    "\n",
    "* _x, y_ = The top-left coordinate of the area in grid cells.\n",
    "* _[width],[height]_ = The optional size of the area to create. If these aren't defined the area will be a single.\n",
    "* _color_ = The color of the area. This is defined using either _[CSS color names](https://www.w3schools.com/colors/colors_names.asp)_ (e.g. 'Aquamarine' or Hex color values (e.g. '#7FFFD4' - which is also Aquamarine)\n",
    "\n",
    "There are 2 types of area that can be created:\n",
    "\n",
    "\n",
    "### Grid-Level Areas\n",
    "\n",
    "These are area on the grid that can be moved to. Additionally, they can specify a reward value which will be returned when Baby Robot moves to one of these cells. Unlike puddles, grid areas don't cause probabilistic behaviour. In other words, they don't cause skids and Baby Robot will always move to the target cell.\n",
    "\n",
    "So, for example, a single area could be defined as:\n",
    "\n",
    "```\n",
    "((3,0,2,3),'DarkBlue',-2)\n",
    "```\n",
    "\n",
    "The creates a DarkBlue area of size 2x3 at location (3,0) and entering this area results in a reward of -2 being recevied, for each square in the area.\n",
    "\n",
    "An list of grid-level areas may be defined during setup using the <i>'grid_areas'</i> property.\n",
    "\n"
   ]
  },
  {
   "cell_type": "code",
   "execution_count": 27,
   "metadata": {},
   "outputs": [
    {
     "data": {
      "application/vnd.jupyter.widget-view+json": {
       "model_id": "9ff2e8f5e7f74305a3af1f03b055ab42",
       "version_major": 2,
       "version_minor": 0
      },
      "text/plain": [
       "MultiCanvas(height=196, sync_image_data=True, width=452)"
      ]
     },
     "metadata": {},
     "output_type": "display_data"
    }
   ],
   "source": [
    "setup = {'width': 7,'height':3}\n",
    "\n",
    "grid_areas = [((1,1),'#8A2BE2',-5),              \n",
    "              ((3,0,2,3),'DarkBlue',-2)]\n",
    "setup['grid_areas'] = grid_areas\n",
    "\n",
    "env = babyrobot.make(\"BabyRobot-v0\",**setup)\n",
    "env.render()"
   ]
  },
  {
   "cell_type": "markdown",
   "metadata": {},
   "source": [
    "The reward from the last grid-area defined for a cell is the reward that will be returned when moving into that cell:"
   ]
  },
  {
   "cell_type": "code",
   "execution_count": 28,
   "metadata": {},
   "outputs": [
    {
     "data": {
      "application/vnd.jupyter.widget-view+json": {
       "model_id": "f0af564a87d44b3b93f36ba0ab18eacc",
       "version_major": 2,
       "version_minor": 0
      },
      "text/plain": [
       "MultiCanvas(height=260, sync_image_data=True, width=460)"
      ]
     },
     "metadata": {},
     "output_type": "display_data"
    }
   ],
   "source": [
    "setup = {'width': 4,'height':4,'add_compass':True}\n",
    "setup['side_panel'] = {'width':200,'color':'#ddd'}\n",
    "grid_areas = [((1,1,3,3),'LightSeaGreen',-6),\n",
    "              ((1,1),'MediumSlateBlue',-7),              \n",
    "              ((2,2,2,2),'Lime',-8)]\n",
    "setup['grid_areas'] = grid_areas\n",
    "env = babyrobot.make(\"BabyRobot-v0\",**setup)\n",
    "env.render()"
   ]
  },
  {
   "cell_type": "code",
   "execution_count": 29,
   "metadata": {},
   "outputs": [],
   "source": [
    "# show the reward for each cell (explained further below)\n",
    "info = {'text': env.level.get_rewards()}\n",
    "env.show_info(info)"
   ]
  },
  {
   "cell_type": "code",
   "execution_count": 30,
   "metadata": {},
   "outputs": [],
   "source": [
    "def reward_test():\n",
    "  env.reset()  \n",
    "  for step in range(20):\n",
    "    # choose from dynamic action space to allow only valid actions\n",
    "    action = env.dynamic_action_space.sample() \n",
    "    if action != Actions.Stay:     \n",
    "      new_state, reward, done, truncated, info = env.step(action)\n",
    "      info_str = f\"{Actions(action): <5}: {new_state} reward = {reward}\"         \n",
    "      env.render(info = {'side_info': [((10,100),info_str)]}) \n",
    "      time.sleep(0.5) # pause a little to allow the reward to be read\n",
    "      if done: break\n",
    "\n",
    "reward_test() "
   ]
  },
  {
   "cell_type": "markdown",
   "metadata": {},
   "source": [
    "### Base-Level Areas\n",
    "\n",
    "These are off-grid areas that can't be entered. They can be used to change the shape of the grid world, to allow shapes other than plain rectangles. They are specified by giving a list of areas using the <i>'base_areas'</i> setup parameter.\n",
    "\n",
    "Because Baby Robot can't move to base-level areas, by default they are shown will a wall around them. When the area exists at the edge of the grid the wall will not be displayed. \n",
    "Additionally, since these areas are used to blank out parts of the grid, they have a default color of white.\n",
    "\n",
    "This is shown in the example below, where a base-level area of size 2x2 is defined at (2,0). It is given the default color of white and its top border has been removed, since this is at the edge of the grid:"
   ]
  },
  {
   "cell_type": "code",
   "execution_count": 31,
   "metadata": {},
   "outputs": [
    {
     "data": {
      "application/vnd.jupyter.widget-view+json": {
       "model_id": "9b05fe21523f484eb3f801607380483b",
       "version_major": 2,
       "version_minor": 0
      },
      "text/plain": [
       "MultiCanvas(height=196, sync_image_data=True, width=388)"
      ]
     },
     "metadata": {},
     "output_type": "display_data"
    }
   ],
   "source": [
    "setup = {'width':6}\n",
    "setup['base_areas'] = [(2,0,2,2)]\n",
    "env = babyrobot.make(\"BabyRobot-v0\",**setup)\n",
    "env.render()"
   ]
  },
  {
   "cell_type": "markdown",
   "metadata": {},
   "source": [
    "Colored base-level areas can also be defined, by supplying a color, as described above for a basic area definition.\n",
    "\n",
    "Also, the default borders can be changed, to instead specify which borders should be displayed and what color they will have. This is defined as a list, which specifies which area edge should get the border and what color to give it. If no color is specified it will default to black.\n",
    "\n",
    "For example:\n",
    "\n",
    "```\n",
    "((2,0,2,2),'yellow',[('E'),('W','Red')])\n",
    "```\n",
    "\n",
    "Defines a yellow 2x2 area at position (2,0). This will be given a black East wall and a Red West wall. Nether the North nor South borders will be shown.\n"
   ]
  },
  {
   "cell_type": "code",
   "execution_count": 32,
   "metadata": {},
   "outputs": [
    {
     "data": {
      "application/vnd.jupyter.widget-view+json": {
       "model_id": "8236bcfcc97248c09e217a5fbfafbadc",
       "version_major": 2,
       "version_minor": 0
      },
      "text/plain": [
       "MultiCanvas(height=196, sync_image_data=True, width=388)"
      ]
     },
     "metadata": {},
     "output_type": "display_data"
    }
   ],
   "source": [
    "setup = {'width':6}\n",
    "setup['base_areas'] = [((2,0,2,2),'yellow',[('E'),('W','Red')])]\n",
    "env = babyrobot.make(\"BabyRobot-v0\",**setup)\n",
    "env.render()"
   ]
  },
  {
   "cell_type": "code",
   "execution_count": 33,
   "metadata": {},
   "outputs": [
    {
     "data": {
      "application/vnd.jupyter.widget-view+json": {
       "model_id": "b4bf041056214192b907d1645b3242a9",
       "version_major": 2,
       "version_minor": 0
      },
      "text/plain": [
       "MultiCanvas(height=388, sync_image_data=True, width=516)"
      ]
     },
     "metadata": {},
     "output_type": "display_data"
    }
   ],
   "source": [
    "setup = {'width': 8,'height':6}\n",
    "\n",
    "# areas of different reward, unlike puddles deteterministic don't cause skids \n",
    "grid_areas = [((1,1),'aqua',-5),              \n",
    "              ((5,0,3,3),'lime',-2)]\n",
    "setup['grid_areas'] = grid_areas\n",
    "\n",
    "base_areas = [((3,0,2,2),'yellow'),        \n",
    "              ((3,4,2,2),[('N','red'),('E','green'),('W','blue')]),\n",
    "              ((0,3,2,2)),        \n",
    "              ((6,3,2,2),'yellow',[('N'),('S','DarkBlue')])]        \n",
    "setup['base_areas'] = base_areas\n",
    "\n",
    "env = babyrobot.make(\"BabyRobot-v0\",**setup)\n",
    "env.render()"
   ]
  },
  {
   "cell_type": "markdown",
   "metadata": {},
   "source": [
    "# Adding Grid Information\n",
    "\n",
    "Information about the cells in the grid can be written directly to each cell."
   ]
  },
  {
   "cell_type": "markdown",
   "metadata": {},
   "source": [
    "### Adding Numbers To Cells\n",
    "\n",
    "A numpy array of values can be set using the _text_ property and supplied to the environment's <i>show_info</i> function:"
   ]
  },
  {
   "cell_type": "code",
   "execution_count": 34,
   "metadata": {},
   "outputs": [
    {
     "data": {
      "text/plain": [
       "array([[0.04102608, 0.93789846, 0.2476451 ],\n",
       "       [0.13515312, 0.9965803 , 0.98931067],\n",
       "       [0.26463817, 0.90671617, 0.20400997]])"
      ]
     },
     "execution_count": 34,
     "metadata": {},
     "output_type": "execute_result"
    }
   ],
   "source": [
    "# create a 3x3 numpy array of random floating point values\n",
    "values = np.random.rand(3, 3)\n",
    "values"
   ]
  },
  {
   "cell_type": "code",
   "execution_count": 35,
   "metadata": {},
   "outputs": [
    {
     "data": {
      "application/vnd.jupyter.widget-view+json": {
       "model_id": "1251710330864415acfd046baa231a05",
       "version_major": 2,
       "version_minor": 0
      },
      "text/plain": [
       "MultiCanvas(height=196, sync_image_data=True, width=196)"
      ]
     },
     "metadata": {},
     "output_type": "display_data"
    }
   ],
   "source": [
    "env = babyrobot.make(\"BabyRobot-v0\")\n",
    "env.render() "
   ]
  },
  {
   "cell_type": "code",
   "execution_count": 36,
   "metadata": {},
   "outputs": [],
   "source": [
    "# show the array \n",
    "# - limit floating point precision to 2 decimal places\n",
    "info = {'text': values, 'precision': 2}\n",
    "env.show_info(info)"
   ]
  },
  {
   "cell_type": "markdown",
   "metadata": {},
   "source": [
    "### Add Text to Each Cell\n",
    "\n",
    "The <i>show_info</i> _text_ property can also be used to add text to each grid cell:"
   ]
  },
  {
   "cell_type": "code",
   "execution_count": 37,
   "metadata": {},
   "outputs": [
    {
     "data": {
      "application/vnd.jupyter.widget-view+json": {
       "model_id": "024d68d2a0ce4538b89c2755401e6598",
       "version_major": 2,
       "version_minor": 0
      },
      "text/plain": [
       "MultiCanvas(height=196, sync_image_data=True, width=196)"
      ]
     },
     "metadata": {},
     "output_type": "display_data"
    }
   ],
   "source": [
    "env = babyrobot.make(\"BabyRobot-v0\")\n",
    "env.render() "
   ]
  },
  {
   "cell_type": "code",
   "execution_count": 38,
   "metadata": {},
   "outputs": [],
   "source": [
    "# create a 3x3 array of random letters\n",
    "random_chars = np.random.choice(list(string.ascii_lowercase),size=(3,3))\n",
    "info = {'text': random_chars}\n",
    "env.show_info(info)"
   ]
  },
  {
   "cell_type": "markdown",
   "metadata": {},
   "source": [
    "### Adding Directions\n",
    "\n",
    "The possible directions for each cell can be displayed as either arrows or text:"
   ]
  },
  {
   "cell_type": "code",
   "execution_count": 39,
   "metadata": {},
   "outputs": [
    {
     "data": {
      "application/vnd.jupyter.widget-view+json": {
       "model_id": "b46d1e5d2c754708afc33e63b99e4427",
       "version_major": 2,
       "version_minor": 0
      },
      "text/plain": [
       "MultiCanvas(height=196, sync_image_data=True, width=296)"
      ]
     },
     "metadata": {},
     "output_type": "display_data"
    }
   ],
   "source": [
    "env = babyrobot.make(\"BabyRobot-v0\",**{'add_compass':True })\n",
    "env.render() "
   ]
  },
  {
   "cell_type": "code",
   "execution_count": 40,
   "metadata": {},
   "outputs": [],
   "source": [
    "# add the possible directions to specific cells\n",
    "info = {'directions': {'arrows':[(2,0),(1,1)],'text':[(2,0),(1,1)]} }\n",
    "env.show_info(info)"
   ]
  },
  {
   "cell_type": "markdown",
   "metadata": {},
   "source": [
    "### Enquiring About Directions\n",
    "\n",
    "- can ask for all directions in the grid or individual cells\n",
    "- directions are returned as bit fields"
   ]
  },
  {
   "cell_type": "code",
   "execution_count": 41,
   "metadata": {},
   "outputs": [
    {
     "data": {
      "text/plain": [
       "12"
      ]
     },
     "execution_count": 41,
     "metadata": {},
     "output_type": "execute_result"
    }
   ],
   "source": [
    "# get the bitfield value representing the possible directions\n",
    "# at point (2,0) = south + west = 4 + 8 = 12\n",
    "direction_2_0 = env.level.get_directions(2,0)\n",
    "direction_2_0"
   ]
  },
  {
   "cell_type": "code",
   "execution_count": 42,
   "metadata": {},
   "outputs": [
    {
     "data": {
      "text/plain": [
       "array([[ 6, 14, 12],\n",
       "       [ 7, 15, 13],\n",
       "       [ 3, 11,  0]])"
      ]
     },
     "execution_count": 42,
     "metadata": {},
     "output_type": "execute_result"
    }
   ],
   "source": [
    "# getting the possible directions for all grid cells\n",
    "directions = env.level.get_directions()\n",
    "directions"
   ]
  },
  {
   "cell_type": "markdown",
   "metadata": {},
   "source": [
    "The _directions_ array can then be supplied to the <i>show_info<i> function, to display the possible directions for all cells in the grid:"
   ]
  },
  {
   "cell_type": "code",
   "execution_count": 43,
   "metadata": {},
   "outputs": [
    {
     "data": {
      "application/vnd.jupyter.widget-view+json": {
       "model_id": "f7941c49f8ff4a75a8d2c77ff4d70472",
       "version_major": 2,
       "version_minor": 0
      },
      "text/plain": [
       "MultiCanvas(height=196, sync_image_data=True, width=296)"
      ]
     },
     "metadata": {},
     "output_type": "display_data"
    }
   ],
   "source": [
    "env = babyrobot.make(\"BabyRobot-v0\",**{'add_compass':True })\n",
    "env.render() "
   ]
  },
  {
   "cell_type": "code",
   "execution_count": 44,
   "metadata": {},
   "outputs": [],
   "source": [
    "info = {'directions': {'arrows':directions,'text':directions}}\n",
    "env.show_info(info)"
   ]
  },
  {
   "cell_type": "markdown",
   "metadata": {},
   "source": [
    "### Adding Rewards\n",
    "\n",
    "The rewards of each cell in the grid may be queried by calling:\n",
    "\n",
    "```\n",
    "env.level.get_rewards()\n",
    "```\n",
    "\n",
    "The result is an array of the rewards for each cell in the grid. This may then be displayed on the grid:"
   ]
  },
  {
   "cell_type": "code",
   "execution_count": 45,
   "metadata": {},
   "outputs": [
    {
     "data": {
      "application/vnd.jupyter.widget-view+json": {
       "model_id": "354fad0181f4445d99f6b2f8643dbb03",
       "version_major": 2,
       "version_minor": 0
      },
      "text/plain": [
       "MultiCanvas(height=388, sync_image_data=True, width=716)"
      ]
     },
     "metadata": {},
     "output_type": "display_data"
    }
   ],
   "source": [
    "setup = {'width': 8,'height':6, 'start':[6,1]}\n",
    "setup['side_panel'] = {'width':200,'color':'#ddd'}\n",
    "\n",
    "# areas of different reward, unlike puddles deteterministic don't cause skids \n",
    "grid_areas = [((1,1),'aqua',-5),              \n",
    "              ((5,0,3,3),'lime',-2)]\n",
    "setup['grid_areas'] = grid_areas\n",
    "\n",
    "base_areas = [((3,0,2,2),'yellow'),        \n",
    "              ((3,4,2,2),[('N','red'),('E','green'),('W','blue')]),\n",
    "              ((0,3,2,2)),        \n",
    "              ((6,3,2,2),'yellow',[('N'),('S')])]        \n",
    "setup['base_areas'] = base_areas\n",
    "\n",
    "env = babyrobot.make(\"BabyRobot-v0\",**setup)\n",
    "env.render()"
   ]
  },
  {
   "cell_type": "code",
   "execution_count": 46,
   "metadata": {},
   "outputs": [],
   "source": [
    "info = {'text': env.level.get_rewards()}\n",
    "env.show_info(info)"
   ]
  },
  {
   "cell_type": "code",
   "execution_count": 47,
   "metadata": {},
   "outputs": [],
   "source": [
    "reward_test()    "
   ]
  },
  {
   "cell_type": "markdown",
   "metadata": {},
   "source": [
    "### Add co-ordinate to the grid\n",
    "\n",
    "To make it easier to see where walls, puddles, etc. need to be added, the grid co-ordinates can be displayed:"
   ]
  },
  {
   "cell_type": "code",
   "execution_count": 48,
   "metadata": {},
   "outputs": [
    {
     "data": {
      "application/vnd.jupyter.widget-view+json": {
       "model_id": "1a428fbbe3244834961ff375233036d5",
       "version_major": 2,
       "version_minor": 0
      },
      "text/plain": [
       "MultiCanvas(height=196, sync_image_data=True, width=452)"
      ]
     },
     "metadata": {},
     "output_type": "display_data"
    }
   ],
   "source": [
    "setup = {'width': 7,'height':3}\n",
    "grid_areas = [((1,1),'#8A2BE2',-5),((3,0,2,3),'DarkBlue',-2)]\n",
    "setup['grid_areas'] = grid_areas\n",
    "env = babyrobot.make(\"BabyRobot-v0\",**setup)\n",
    "env.render()"
   ]
  },
  {
   "cell_type": "code",
   "execution_count": 49,
   "metadata": {},
   "outputs": [],
   "source": [
    "info = {'coords': True}\n",
    "env.show_info(info)"
   ]
  },
  {
   "cell_type": "markdown",
   "metadata": {},
   "source": [
    "### Removing the information\n",
    "\n",
    "The information that's displayed on the grid can be removed by calling:\n",
    "\n",
    "```\n",
    "env.clear_info(all_info=True)\n",
    "```"
   ]
  },
  {
   "cell_type": "code",
   "execution_count": 50,
   "metadata": {},
   "outputs": [],
   "source": [
    "env.clear_info(all_info=True)"
   ]
  },
  {
   "cell_type": "markdown",
   "metadata": {},
   "source": [
    "# Customizing the Level\n",
    "\n",
    "The default colors and cell widths of the grid can be altered by using the _grid_ property of the setup object.\n",
    "Within the _grid_ property, the colors of the level's components can be specified using the '_colors_' property and the widths by using a '_widths_' property:\n",
    "\n",
    "```\n",
    "{\n",
    "  'grid':\n",
    "  {\n",
    "    'colors': {},\n",
    "    'widths': {}\n",
    "  }\n",
    "}\n",
    "```\n",
    "\n",
    "Colors can be specified either using their [name](https://www.w3schools.com/colors/colors_names.asp) or their RGB hex values.\n",
    "\n",
    "### Setting the base color"
   ]
  },
  {
   "cell_type": "code",
   "execution_count": 51,
   "metadata": {},
   "outputs": [
    {
     "data": {
      "application/vnd.jupyter.widget-view+json": {
       "model_id": "b5045f52edb74054997147e8e139594b",
       "version_major": 2,
       "version_minor": 0
      },
      "text/plain": [
       "MultiCanvas(height=196, sync_image_data=True, width=196)"
      ]
     },
     "metadata": {},
     "output_type": "display_data"
    }
   ],
   "source": [
    "setup = {}\n",
    "setup['grid'] = {'colors': {'base':'lime'}}\n",
    "env = babyrobot.make(\"BabyRobot-v0\",**setup)\n",
    "env.render() "
   ]
  },
  {
   "cell_type": "markdown",
   "metadata": {},
   "source": [
    "### Setting the grid line color"
   ]
  },
  {
   "cell_type": "code",
   "execution_count": 52,
   "metadata": {},
   "outputs": [
    {
     "data": {
      "application/vnd.jupyter.widget-view+json": {
       "model_id": "103768c06dc747ddbfe0db105517eb4d",
       "version_major": 2,
       "version_minor": 0
      },
      "text/plain": [
       "MultiCanvas(height=196, sync_image_data=True, width=196)"
      ]
     },
     "metadata": {},
     "output_type": "display_data"
    }
   ],
   "source": [
    "setup = {}\n",
    "setup['grid'] = {'colors': {'lines':'DarkMagenta'}}\n",
    "env = babyrobot.make(\"BabyRobot-v0\",**setup)\n",
    "env.render() "
   ]
  },
  {
   "cell_type": "markdown",
   "metadata": {},
   "source": [
    "### Example: All grid colors"
   ]
  },
  {
   "cell_type": "code",
   "execution_count": 53,
   "metadata": {},
   "outputs": [
    {
     "data": {
      "application/vnd.jupyter.widget-view+json": {
       "model_id": "3a6f0a2f79004cb0940dd80177312219",
       "version_major": 2,
       "version_minor": 0
      },
      "text/plain": [
       "MultiCanvas(height=196, sync_image_data=True, width=196)"
      ]
     },
     "metadata": {},
     "output_type": "display_data"
    }
   ],
   "source": [
    "setup = {}\n",
    "grid_props = {'colors':\n",
    "                {\n",
    "                  'base': '#BEB8EB',\n",
    "                  'lines': '#5E5C6C',\n",
    "                  'exit': '#0B5563',\n",
    "                  'start': '#5299D3',\n",
    "                  'border': '#5E5C6C',\n",
    "                  'walls': '#5E5C6C',\n",
    "                  'arrows': '#0B5563',\n",
    "                  'text_bg': 'rgba(60,60,60,0.7)',\n",
    "                  'text_fg': '#CCC'\n",
    "                },\n",
    "                'widths':\n",
    "                {\n",
    "                  'border': 6,\n",
    "                  'walls': 4\n",
    "                }\n",
    "             }\n",
    "setup['grid'] = grid_props                \n",
    "\n",
    "base_areas = [(1,1)]      \n",
    "setup['base_areas'] = base_areas              \n",
    "\n",
    "env = babyrobot.make(\"BabyRobot-v0\",**setup)\n",
    "env.render() \n"
   ]
  },
  {
   "cell_type": "code",
   "execution_count": 54,
   "metadata": {},
   "outputs": [],
   "source": [
    "directions = env.level.get_directions()\n",
    "info = {'directions': {'arrows':directions,'text':directions}}\n",
    "env.show_info(info)"
   ]
  },
  {
   "cell_type": "markdown",
   "metadata": {},
   "source": [
    "# Theming\n",
    "\n",
    "To allow color schemes to be re-used they can be saved in JSON format theme files.\n",
    "The environment comes with a couple of these pre-made color schemes:\n",
    "\n",
    "* 'black_orange'\n",
    "* 'blue_green'\n",
    "\n",
    "Use the 'grid':'theme' property to specify the theme to use:"
   ]
  },
  {
   "cell_type": "code",
   "execution_count": 55,
   "metadata": {},
   "outputs": [
    {
     "data": {
      "application/vnd.jupyter.widget-view+json": {
       "model_id": "3049d2ef6923448a83faf7b77f4a936c",
       "version_major": 2,
       "version_minor": 0
      },
      "text/plain": [
       "MultiCanvas(height=198, sync_image_data=True, width=198)"
      ]
     },
     "metadata": {},
     "output_type": "display_data"
    }
   ],
   "source": [
    "setup = {}\n",
    "setup['grid'] = {'theme': 'black_orange'}\n",
    "env = babyrobot.make(\"BabyRobot-v0\",**setup)\n",
    "env.render()"
   ]
  },
  {
   "cell_type": "markdown",
   "metadata": {},
   "source": [
    "## Creating a Theme File\n",
    "\n",
    "Once you've created a color theme that you're happy with, you can save it to a theme file so that it can be used again.\n",
    "\n",
    "This file should be written to a '_themes_' folder, which needs to be a sub-directory off the directory where your notebook is running and the file needs to have a '_.json_' extension.\n",
    "\n",
    "In the example below we save the theme as a file called <i>'green.json'</i> and then show how this can be re-used:"
   ]
  },
  {
   "cell_type": "code",
   "execution_count": 5,
   "metadata": {},
   "outputs": [],
   "source": [
    "# load json module\n",
    "import json\n",
    "import os\n",
    "\n",
    "# python dictionary with key value pairs\n",
    "grid_props = {'colors':\n",
    "                {\n",
    "                  'base': '#588157',\n",
    "                  'lines': '#84a98c',\n",
    "                  'exit': '#354f52',\n",
    "                  'start': '#a3b18a',\n",
    "                  'border': '#344e41',\n",
    "                  'walls': '#344e41',\n",
    "                  'arrows': '#354f52',\n",
    "                  'text_bg': 'rgba(60,60,60,0.7)',\n",
    "                  'text_fg': '#CCC'\n",
    "                },\n",
    "                'widths':\n",
    "                {\n",
    "                  'padding': 3,\n",
    "                  'walls': 6\n",
    "                }\n",
    "             }\n",
    "\n",
    "\n",
    "# create json object from dictionary\n",
    "json = json.dumps(grid_props)\n",
    "\n",
    "# write the json object to a file\n",
    "os.makedirs(f'./themes', exist_ok=True)  \n",
    "f = open(\"./themes/green.json\",\"w\")\n",
    "f.write(json)\n",
    "f.close()"
   ]
  },
  {
   "cell_type": "code",
   "execution_count": 6,
   "metadata": {},
   "outputs": [
    {
     "data": {
      "application/vnd.jupyter.widget-view+json": {
       "model_id": "f216d10e7230421faebd68f5bb03b92b",
       "version_major": 2,
       "version_minor": 0
      },
      "text/plain": [
       "MultiCanvas(height=198, sync_image_data=True, width=198)"
      ]
     },
     "metadata": {},
     "output_type": "display_data"
    }
   ],
   "source": [
    "# use the theme that's just been created\n",
    "setup = {}\n",
    "setup['grid'] = {'theme': 'green'}\n",
    "env = babyrobot.make(\"BabyRobot-v0\",**setup)\n",
    "env.render()"
   ]
  },
  {
   "cell_type": "markdown",
   "metadata": {},
   "source": [
    "## Save the level as an image\n",
    "\n",
    "```\n",
    "env.save( filename )\n",
    "```\n",
    "\n",
    "where 'filename' is the name of the PNG image file to create."
   ]
  },
  {
   "cell_type": "code",
   "execution_count": 7,
   "metadata": {},
   "outputs": [
    {
     "data": {
      "application/vnd.jupyter.widget-view+json": {
       "model_id": "49eb74260385403399d6521e20b11de1",
       "version_major": 2,
       "version_minor": 0
      },
      "text/plain": [
       "MultiCanvas(height=198, sync_image_data=True, width=198)"
      ]
     },
     "metadata": {},
     "output_type": "display_data"
    }
   ],
   "source": [
    "setup = {}\n",
    "setup['grid'] = {'theme': 'green'}\n",
    "env = babyrobot.make(\"BabyRobot-v0\",**setup)\n",
    "env.render()"
   ]
  },
  {
   "cell_type": "code",
   "execution_count": 8,
   "metadata": {},
   "outputs": [],
   "source": [
    "# note that 'save' must be called in a seperate cell\n",
    "filename = 'green_theme.png'\n",
    "env.save(filename)"
   ]
  },
  {
   "cell_type": "code",
   "execution_count": 9,
   "metadata": {},
   "outputs": [
    {
     "data": {
      "image/png": "[encoded data removed]",
      "text/plain": [
       "<IPython.core.display.Image object>"
      ]
     },
     "execution_count": 9,
     "metadata": {},
     "output_type": "execute_result"
    }
   ],
   "source": [
    "# display the saved image\n",
    "from IPython.display import Image\n",
    "Image(filename=filename)"
   ]
  },
  {
   "cell_type": "markdown",
   "metadata": {},
   "source": [
    "## Baby Robot Control\n",
    "\n",
    "The appearance and movement of Baby Robot can be controlled using the '_robot_' configuration setting, which has the following parameters:\n",
    "\n",
    "**_control if Baby Robot should be shown:_**</br>\n",
    "* _show_ : True (default) or False\n",
    "\n",
    "**_the initial robot sprite:_**</br>\n",
    "* <i>initial_sprite</i> : default = 4 (center view) \n",
    "\n",
    "**_the number of steps before a sprite change:_**</br>\n",
    "* <i>sprite_change</i> : default = 2\n",
    "\n",
    "**_robot speed parameters:_**</br>\n",
    "* <i>sleep</i> : the time to pause between each move step (default = 0.07s)\n",
    "* <i>canvas_sleep</i> : Google Colab specific pause (default = 40ms)"
   ]
  },
  {
   "cell_type": "code",
   "execution_count": null,
   "metadata": {},
   "outputs": [
    {
     "data": {
      "application/vnd.jupyter.widget-view+json": {
       "model_id": "c17d1ed3ef124cb18941972b374353cb",
       "version_major": 2,
       "version_minor": 0
      },
      "text/plain": [
       "MultiCanvas(height=196, sync_image_data=True, width=196)"
      ]
     },
     "metadata": {},
     "output_type": "display_data"
    }
   ],
   "source": [
    "# a very fast moving Baby Robot with more head-bobble\n",
    "setup = {}\n",
    "setup['robot'] = \\\n",
    "{ \n",
    "  'sleep': 0.01,\n",
    "  'sprite_change': 1,\n",
    "  'initial_sprite': 9\n",
    "}\n",
    "env = babyrobot.make(\"BabyRobot-v0\",**setup)\n",
    "env.render()"
   ]
  },
  {
   "cell_type": "code",
   "execution_count": null,
   "metadata": {},
   "outputs": [],
   "source": [
    "# initialize the environment\n",
    "env.reset()\n",
    "\n",
    "# move until the exit is found\n",
    "done = False\n",
    "while not done:  \n",
    "\n",
    "  # choose a random action\n",
    "  action = env.action_space.sample()   \n",
    "\n",
    "  # take the action and get the information from the environment\n",
    "  new_state, reward, done, truncated, info = env.step(action)\n",
    "  \n",
    "  # show the current position\n",
    "  env.render() "
   ]
  },
  {
   "attachments": {},
   "cell_type": "markdown",
   "metadata": {},
   "source": [
    "# Setting the Rendering Mode"
   ]
  },
  {
   "attachments": {},
   "cell_type": "markdown",
   "metadata": {},
   "source": [
    "When running in a non-graphical environment (e.g. in a terminal rather than in a Jupyter Notebook) or when running multiple episodes, it's best to set the rendering mode to '_None_'. This then prevents the creation of the canvas elements that would normally be used to draw the grid level and means that these components aren't updated during the '_step_' function. This can give a significant performance improvement.\n",
    "\n",
    "By default the _gymnasium_ '_make_' function already sets its default render mode to _None_. In this case, to get a graphical environment to appear when '_render_' is called, requires the '<i>render_mode</i>' parameter to be set to '_human_':"
   ]
  },
  {
   "cell_type": "code",
   "execution_count": 68,
   "metadata": {},
   "outputs": [
    {
     "data": {
      "application/vnd.jupyter.widget-view+json": {
       "model_id": "f35360db4b6e4afab9662967a7428b90",
       "version_major": 2,
       "version_minor": 0
      },
      "text/plain": [
       "MultiCanvas(height=196, sync_image_data=True, width=196)"
      ]
     },
     "metadata": {},
     "output_type": "display_data"
    }
   ],
   "source": [
    "env = gymnasium.make(\"BabyRobot-v0\", render_mode='human')\n",
    "env.reset()\n",
    "env.render()"
   ]
  },
  {
   "attachments": {},
   "cell_type": "markdown",
   "metadata": {},
   "source": [
    "Whereas, since the <b>Baby Robot</b> library is intended to show graphical environments the default rendering mode of its '_make_' function is already set to '_human_', so normally doesn't need to be set (notice also that by default it doesn't require the '_reset_' function to be called before a call to the '_render_' function):"
   ]
  },
  {
   "cell_type": "code",
   "execution_count": 69,
   "metadata": {},
   "outputs": [
    {
     "data": {
      "application/vnd.jupyter.widget-view+json": {
       "model_id": "b7717112b1c04cefa0d065409ea18762",
       "version_major": 2,
       "version_minor": 0
      },
      "text/plain": [
       "MultiCanvas(height=196, sync_image_data=True, width=196)"
      ]
     },
     "metadata": {},
     "output_type": "display_data"
    }
   ],
   "source": [
    "env = babyrobot.make(\"BabyRobot-v0\")\n",
    "env.render()"
   ]
  },
  {
   "attachments": {},
   "cell_type": "markdown",
   "metadata": {},
   "source": [
    "So, with the '_babyrobot.make_' function the '<i>render_mode=None</i>' needs to be set before running the environment in a terminal or for operations that you want to execute quickly:"
   ]
  },
  {
   "cell_type": "code",
   "execution_count": 70,
   "metadata": {},
   "outputs": [
    {
     "data": {
      "application/vnd.jupyter.widget-view+json": {
       "model_id": "ce2027958cec4d89a2dba88740777c2a",
       "version_major": 2,
       "version_minor": 0
      },
      "text/plain": [
       "  0%|          | 0/1000 [00:00<?, ?it/s]"
      ]
     },
     "metadata": {},
     "output_type": "display_data"
    },
    {
     "name": "stdout",
     "output_type": "stream",
     "text": [
      "Average Episode Return = -17.57\n"
     ]
    }
   ],
   "source": [
    "# run 1000 episodes to calculate the average return on a default environment\n",
    "from tqdm.notebook import tqdm\n",
    "\n",
    "env = babyrobot.make(\"BabyRobot-v0\", render_mode=None)\n",
    "\n",
    "num_episodes = 1000\n",
    "total_return = 0\n",
    "for episode in tqdm(range(num_episodes)):\n",
    "  # take random actions until the exit is found\n",
    "  env.reset()\n",
    "  total_reward = 0\n",
    "  terminated = False\n",
    "  while not terminated:  \n",
    "    action = env.action_space.sample()  \n",
    "    new_state, reward, terminated, truncated, info = env.step(action)\n",
    "    total_reward += reward  \n",
    "\n",
    "  total_return += total_reward\n",
    "\n",
    "print(f\"Average Episode Return = {total_return/num_episodes}\")  "
   ]
  }
 ],
 "metadata": {
  "kernelspec": {
   "display_name": "BabyRobotGym",
   "language": "python",
   "name": "python3"
  },
  "language_info": {
   "codemirror_mode": {
    "name": "ipython",
    "version": 3
   },
   "file_extension": ".py",
   "mimetype": "text/x-python",
   "name": "python",
   "nbconvert_exporter": "python",
   "pygments_lexer": "ipython3",
   "version": "3.10.4"
  },
  "vscode": {
   "interpreter": {
    "hash": "50f7925c2b527e04ad4ab9285d4738429ed4ef149c3803ef7aee3c43b8d710c9"
   }
  }
 },
 "nbformat": 4,
 "nbformat_minor": 2
}
