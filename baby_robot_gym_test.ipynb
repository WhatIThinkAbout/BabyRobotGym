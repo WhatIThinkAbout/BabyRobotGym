{
 "cells": [
  {
   "cell_type": "markdown",
   "metadata": {},
   "source": [
    "Creating a custom gym environment taken from:\n",
    "\n",
    "https://towardsdatascience.com/beginners-guide-to-custom-environments-in-openai-s-gym-989371673952"
   ]
  },
  {
   "cell_type": "code",
   "execution_count": 1,
   "metadata": {},
   "outputs": [],
   "source": [
    "import gym\n",
    "import baby_robot_gym\n",
    "from stable_baselines3.common.env_checker import check_env"
   ]
  },
  {
   "cell_type": "code",
   "execution_count": 2,
   "metadata": {},
   "outputs": [],
   "source": [
    "\n",
    "env = gym.make(\"baby_robot_gym:baby-robot-v0\")"
   ]
  },
  {
   "cell_type": "code",
   "execution_count": 3,
   "metadata": {},
   "outputs": [],
   "source": [
    "# returns nothing if the environment is verified as ok\n",
    "check_env(env)"
   ]
  },
  {
   "cell_type": "code",
   "execution_count": 4,
   "metadata": {},
   "outputs": [
    {
     "name": "stdout",
     "output_type": "stream",
     "text": [
      "1 3.546454060812372 True\n"
     ]
    }
   ],
   "source": [
    "# initialize the environment\n",
    "env.reset()\n",
    "\n",
    "done = False\n",
    "while not done:\n",
    "  # choose a random action\n",
    "  action = env.action_space.sample()   \n",
    "\n",
    "  # take the action and get the information from the environment\n",
    "  new_state, reward, done, info = env.step(action)\n",
    "  print(new_state, reward, done)"
   ]
  }
 ],
 "metadata": {
  "interpreter": {
   "hash": "50f7925c2b527e04ad4ab9285d4738429ed4ef149c3803ef7aee3c43b8d710c9"
  },
  "kernelspec": {
   "display_name": "BabyRobotGym",
   "language": "python",
   "name": "python3"
  },
  "language_info": {
   "codemirror_mode": {
    "name": "ipython",
    "version": 3
   },
   "file_extension": ".py",
   "mimetype": "text/x-python",
   "name": "python",
   "nbconvert_exporter": "python",
   "pygments_lexer": "ipython3",
   "version": "3.10.4"
  }
 },
 "nbformat": 4,
 "nbformat_minor": 2
}
