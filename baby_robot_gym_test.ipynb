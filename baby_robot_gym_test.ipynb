{
 "cells": [
  {
   "cell_type": "markdown",
   "metadata": {},
   "source": [
    "# Creating a Custom Gym Environment\n",
    "\n",
    "This notebook is a very basic test framework for the custom environments created in the \n",
    "Towards Data Science article:\n",
    "\n",
    "_[<b>Creating a Custom Gym Environment for Jupyter Notebooks</b> - <i>Part 1: Creating the framework</i>\n",
    "](https://towardsdatascience.com/creating-a-custom-gym-environment-for-jupyter-notebooks-e17024474617)_\n"
   ]
  },
  {
   "cell_type": "code",
   "execution_count": null,
   "metadata": {},
   "outputs": [],
   "source": [
    "!pip install -q ipycanvas==0.11 -q\n",
    "!pip install stable-baselines3 -q"
   ]
  },
  {
   "cell_type": "code",
   "execution_count": null,
   "metadata": {},
   "outputs": [],
   "source": [
    "# comment out the line below if running locally with source from github\n",
    "!pip install --upgrade -i https://test.pypi.org/simple/ babyrobot -q"
   ]
  },
  {
   "cell_type": "code",
   "execution_count": 6,
   "metadata": {},
   "outputs": [],
   "source": [
    "import gym\n",
    "from stable_baselines3.common.env_checker import check_env\n",
    "\n",
    "import babyrobot\n",
    "from babyrobot.envs.lib import Actions"
   ]
  },
  {
   "cell_type": "markdown",
   "metadata": {},
   "source": [
    "## Select the environment version:"
   ]
  },
  {
   "cell_type": "code",
   "execution_count": null,
   "metadata": {},
   "outputs": [],
   "source": [
    "# select the required environment version\n",
    "# env_name = \"BabyRobotEnv-v0\"\n",
    "# env_name = \"BabyRobotEnv-v1\"\n",
    "env_name = \"BabyRobotEnv-v2\""
   ]
  },
  {
   "cell_type": "code",
   "execution_count": 7,
   "metadata": {},
   "outputs": [
    {
     "name": "stdout",
     "output_type": "stream",
     "text": [
      "Baby Robot Version = v6\n"
     ]
    }
   ],
   "source": [
    "# setup the graphical display for evironments > v5\n",
    "setup = {}\n",
    "setup['grid'] = {'theme': 'black_orange'}\n",
    "setup['side_panel'] = {'width':200}\n",
    "\n",
    "# create the specified environment\n",
    "env = gym.make(env_name,**setup)\n",
    "\n",
    "# get the version from the current environment\n",
    "version = env.unwrapped.spec.id.split('-')[1]\n",
    "print(f\"Baby Robot Version = {version}\")\n"
   ]
  },
  {
   "cell_type": "code",
   "execution_count": 8,
   "metadata": {},
   "outputs": [],
   "source": [
    "# use StableBaselines to check the environment\n",
    "# - returns nothing if the environment is verified as ok\n",
    "check_env(env)"
   ]
  },
  {
   "cell_type": "code",
   "execution_count": 9,
   "metadata": {},
   "outputs": [
    {
     "data": {
      "application/vnd.jupyter.widget-view+json": {
       "model_id": "fe87a05012304c4ab84a86493eb1818e",
       "version_major": 2,
       "version_minor": 0
      },
      "text/plain": [
       "MultiCanvas(height=198, sync_image_data=True, width=398)"
      ]
     },
     "metadata": {},
     "output_type": "display_data"
    }
   ],
   "source": [
    "# initialize the environment and show its initial state\n",
    "env.reset()\n",
    "env.render()"
   ]
  },
  {
   "cell_type": "code",
   "execution_count": 10,
   "metadata": {},
   "outputs": [
    {
     "name": "stdout",
     "output_type": "stream",
     "text": [
      "East : ([1 0]) reward = -1\n",
      "North: ([1 0]) reward = -1\n",
      "North: ([1 0]) reward = -1\n",
      "Stay : ([1 0]) reward = -1\n",
      "West : ([0 0]) reward = -1\n",
      "Stay : ([0 0]) reward = -1\n",
      "East : ([1 0]) reward = -1\n",
      "East : ([2 0]) reward = -1\n",
      "South: ([2 1]) reward = -1\n",
      "South: ([2 2]) reward = -1\n"
     ]
    }
   ],
   "source": [
    "env.reset()\n",
    "done = False\n",
    "while not done:  \n",
    "\n",
    "  # choose a random action\n",
    "  action = env.action_space.sample()   \n",
    "\n",
    "  # take the action and get the information from the environment\n",
    "  new_state, reward, done, info = env.step(action)\n",
    "  \n",
    "  # show the current position and reward\n",
    "  if version == 'v0' or version == 'v1':\n",
    "    print(new_state, reward, done)\n",
    "    \n",
    "  elif version <= 'v4':\n",
    "    env.render(action=action, reward=reward)  \n",
    "\n",
    "  else:\n",
    "    # supply an information string    \n",
    "    info_str = f\"{Actions(action): <5}: ({new_state}) reward = {reward}\"\n",
    "    env.render(info = {'side_info': [((10,10),info_str)]})  \n",
    "    print(info_str)"
   ]
  }
 ],
 "metadata": {
  "interpreter": {
   "hash": "50f7925c2b527e04ad4ab9285d4738429ed4ef149c3803ef7aee3c43b8d710c9"
  },
  "kernelspec": {
   "display_name": "Python 3.10.4 ('BabyRobotGym')",
   "language": "python",
   "name": "python3"
  },
  "language_info": {
   "codemirror_mode": {
    "name": "ipython",
    "version": 3
   },
   "file_extension": ".py",
   "mimetype": "text/x-python",
   "name": "python",
   "nbconvert_exporter": "python",
   "pygments_lexer": "ipython3",
   "version": "3.10.4"
  }
 },
 "nbformat": 4,
 "nbformat_minor": 2
}
