{
 "cells": [
  {
   "cell_type": "markdown",
   "metadata": {},
   "source": [
    "# Creating a Custom Gym Environment\n",
    "\n",
    "This notebook is a very basic test framework for the custom environments created in the \n",
    "Towards Data Science article:\n",
    "\n",
    "_[<b>Creating a Custom Gym Environment for Jupyter Notebooks</b> - <i>Part 1: Creating the framework</i>\n",
    "](https://towardsdatascience.com/creating-a-custom-gym-environment-for-jupyter-notebooks-e17024474617)_\n"
   ]
  },
  {
   "cell_type": "code",
   "execution_count": 1,
   "metadata": {},
   "outputs": [],
   "source": [
    "# comment out the line below if running locally with source from github\n",
    "# %pip install --upgrade babyrobot -q\n",
    "\n",
    "# set the path so we can import from the root directory\n",
    "import sys\n",
    "sys.path.insert(0, '../')"
   ]
  },
  {
   "cell_type": "code",
   "execution_count": 2,
   "metadata": {},
   "outputs": [
    {
     "name": "stdout",
     "output_type": "stream",
     "text": [
      "Gym Version = 0.27.0\n",
      "Baby Robot Version = 1.0.20\n"
     ]
    }
   ],
   "source": [
    "import gymnasium\n",
    "print(f\"Gym Version = {gymnasium.__version__}\")\n",
    "\n",
    "import babyrobot\n",
    "print(f\"Baby Robot Version = {babyrobot.__version__}\")"
   ]
  },
  {
   "cell_type": "markdown",
   "metadata": {},
   "source": [
    "## Select the environment version:"
   ]
  },
  {
   "cell_type": "code",
   "execution_count": 7,
   "metadata": {},
   "outputs": [],
   "source": [
    "from gymnasium.utils.env_checker import check_env\n",
    "from babyrobot.envs.lib import Actions\n",
    "\n",
    "# select the required environment version\n",
    "# env_name = \"BabyRobotEnv-v0\"\n",
    "# env_name = \"BabyRobotEnv-v1\"\n",
    "env_name = \"BabyRobotEnv-v2\"\n",
    "# env_name = \"BabyRobotEnv-v3\"\n",
    "# env_name = \"BabyRobotEnv-v4\"\n",
    "# env_name = \"BabyRobotEnv-v5\"\n",
    "# env_name = \"BabyRobotEnv-v6\"\n",
    "# env_name = \"BabyRobotEnv-v7\""
   ]
  },
  {
   "cell_type": "code",
   "execution_count": 8,
   "metadata": {},
   "outputs": [
    {
     "name": "stdout",
     "output_type": "stream",
     "text": [
      "Stay : (0,0) reward = 0\n",
      "Baby Robot Version = v2\n"
     ]
    }
   ],
   "source": [
    "# setup the graphical display for evironments > v5\n",
    "setup = {}\n",
    "setup['grid'] = {'theme': 'black_orange'}\n",
    "setup['side_panel'] = {'width':200}\n",
    "\n",
    "# create the specified environment\n",
    "env = gymnasium.make(env_name,**setup)\n",
    "check_env(env, warn=True)\n",
    "\n",
    "# get the version from the current environment\n",
    "version = env.unwrapped.spec.id.split('-')[1]\n",
    "print(f\"Baby Robot Version = {version}\")\n"
   ]
  },
  {
   "cell_type": "code",
   "execution_count": 9,
   "metadata": {},
   "outputs": [
    {
     "name": "stdout",
     "output_type": "stream",
     "text": [
      "Stay : (0,0) reward = 0\n"
     ]
    }
   ],
   "source": [
    "# initialize the environment and show its initial state\n",
    "env.reset()\n",
    "env.render()"
   ]
  },
  {
   "cell_type": "code",
   "execution_count": 10,
   "metadata": {},
   "outputs": [
    {
     "name": "stdout",
     "output_type": "stream",
     "text": [
      "East : (1,0) reward = -1\n",
      "West : (0,0) reward = -1\n",
      "East : (1,0) reward = -1\n",
      "North: (1,0) reward = -1\n",
      "East : (2,0) reward = -1\n",
      "South: (2,1) reward = -1\n",
      "Stay : (2,1) reward = -1\n",
      "West : (1,1) reward = -1\n",
      "East : (2,1) reward = -1\n",
      "South: (2,2) reward = 0\n"
     ]
    }
   ],
   "source": [
    "env.reset()\n",
    "terminated = False\n",
    "while not terminated:\n",
    "\n",
    "  # choose a random action\n",
    "  action = env.action_space.sample()\n",
    "\n",
    "  # take the action and get the information from the environment\n",
    "  new_state, reward, terminated, truncated, info = env.step(action)\n",
    "\n",
    "  # show the current position and reward\n",
    "  if version == 'v0' or version == 'v1':\n",
    "    print(new_state, reward, terminated)\n",
    "\n",
    "  elif version <= 'v4':\n",
    "    env.render(action=action, reward=reward)\n",
    "\n",
    "  else:\n",
    "    # supply an information string\n",
    "    info_str = f\"{Actions(action): <5}: ({new_state}) reward = {reward}\"\n",
    "    env.render(info = {'side_info': [((10,10),info_str)]})\n",
    "    print(info_str)"
   ]
  }
 ],
 "metadata": {
  "interpreter": {
   "hash": "50f7925c2b527e04ad4ab9285d4738429ed4ef149c3803ef7aee3c43b8d710c9"
  },
  "kernelspec": {
   "display_name": "Python 3.10.4 ('BabyRobotGym')",
   "language": "python",
   "name": "python3"
  },
  "language_info": {
   "codemirror_mode": {
    "name": "ipython",
    "version": 3
   },
   "file_extension": ".py",
   "mimetype": "text/x-python",
   "name": "python",
   "nbconvert_exporter": "python",
   "pygments_lexer": "ipython3",
   "version": "3.10.4"
  }
 },
 "nbformat": 4,
 "nbformat_minor": 2
}
